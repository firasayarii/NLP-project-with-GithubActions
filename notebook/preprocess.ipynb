{
 "cells": [
  {
   "cell_type": "markdown",
   "metadata": {
    "id": "vifMeyEClsib"
   },
   "source": [
    "# **Import Libraries**"
   ]
  },
  {
   "cell_type": "markdown",
   "metadata": {
    "id": "k_09kvKKrY6A"
   },
   "source": [
    "We import the The Natural Language Toolkit (NLTK) library, which is widely used for natural language processing (NLP) tasks."
   ]
  },
  {
   "cell_type": "code",
   "execution_count": 100,
   "metadata": {
    "colab": {
     "base_uri": "https://localhost:8080/"
    },
    "id": "7EiqG4mdlbls",
    "outputId": "5cc59f1b-36da-42d6-c981-b8e627a66f56"
   },
   "outputs": [
    {
     "name": "stderr",
     "output_type": "stream",
     "text": [
      "[nltk_data] Downloading package punkt to\n",
      "[nltk_data]     C:\\Users\\msi\\AppData\\Roaming\\nltk_data...\n",
      "[nltk_data]   Package punkt is already up-to-date!\n",
      "[nltk_data] Downloading package stopwords to\n",
      "[nltk_data]     C:\\Users\\msi\\AppData\\Roaming\\nltk_data...\n",
      "[nltk_data]   Package stopwords is already up-to-date!\n",
      "[nltk_data] Downloading package wordnet to\n",
      "[nltk_data]     C:\\Users\\msi\\AppData\\Roaming\\nltk_data...\n",
      "[nltk_data]   Package wordnet is already up-to-date!\n",
      "[nltk_data] Downloading package averaged_perceptron_tagger to\n",
      "[nltk_data]     C:\\Users\\msi\\AppData\\Roaming\\nltk_data...\n",
      "[nltk_data]   Package averaged_perceptron_tagger is already up-to-\n",
      "[nltk_data]       date!\n",
      "[nltk_data] Downloading package movie_reviews to\n",
      "[nltk_data]     C:\\Users\\msi\\AppData\\Roaming\\nltk_data...\n",
      "[nltk_data]   Package movie_reviews is already up-to-date!\n"
     ]
    },
    {
     "data": {
      "text/plain": [
       "True"
      ]
     },
     "execution_count": 100,
     "metadata": {},
     "output_type": "execute_result"
    }
   ],
   "source": [
    "# Import necessary libraries\n",
    "import nltk\n",
    "\n",
    "# Download necessary NLTK resources\n",
    "nltk.download('punkt')\n",
    "nltk.download('stopwords')\n",
    "nltk.download('wordnet')\n",
    "nltk.download('averaged_perceptron_tagger')\n",
    "nltk.download('movie_reviews')"
   ]
  },
  {
   "cell_type": "markdown",
   "metadata": {
    "id": "cpgYdsmmlmfb"
   },
   "source": [
    "# **Load the IMDB Dataset**"
   ]
  },
  {
   "cell_type": "markdown",
   "metadata": {
    "id": "DsvC0JrOreAn"
   },
   "source": [
    "We load the movie reviews dataset from NLTK. Each review is stored in a list, and we label them as positive (pos) or negative (neg) based on the filename."
   ]
  },
  {
   "cell_type": "code",
   "execution_count": 101,
   "metadata": {
    "colab": {
     "base_uri": "https://localhost:8080/"
    },
    "id": "FnfkqgTRllAD",
    "outputId": "5392a2b2-be99-43eb-b2f9-2213659f1f82"
   },
   "outputs": [
    {
     "data": {
      "text/html": [
       "<div>\n",
       "<style scoped>\n",
       "    .dataframe tbody tr th:only-of-type {\n",
       "        vertical-align: middle;\n",
       "    }\n",
       "\n",
       "    .dataframe tbody tr th {\n",
       "        vertical-align: top;\n",
       "    }\n",
       "\n",
       "    .dataframe thead th {\n",
       "        text-align: right;\n",
       "    }\n",
       "</style>\n",
       "<table border=\"1\" class=\"dataframe\">\n",
       "  <thead>\n",
       "    <tr style=\"text-align: right;\">\n",
       "      <th></th>\n",
       "      <th>review</th>\n",
       "      <th>sentiment</th>\n",
       "    </tr>\n",
       "  </thead>\n",
       "  <tbody>\n",
       "    <tr>\n",
       "      <th>0</th>\n",
       "      <td>plot : two teen couples go to a church party ,...</td>\n",
       "      <td>neg</td>\n",
       "    </tr>\n",
       "    <tr>\n",
       "      <th>1</th>\n",
       "      <td>the happy bastard's quick movie review \\ndamn ...</td>\n",
       "      <td>neg</td>\n",
       "    </tr>\n",
       "    <tr>\n",
       "      <th>2</th>\n",
       "      <td>it is movies like these that make a jaded movi...</td>\n",
       "      <td>neg</td>\n",
       "    </tr>\n",
       "    <tr>\n",
       "      <th>3</th>\n",
       "      <td>\" quest for camelot \" is warner bros . ' firs...</td>\n",
       "      <td>neg</td>\n",
       "    </tr>\n",
       "    <tr>\n",
       "      <th>4</th>\n",
       "      <td>synopsis : a mentally unstable man undergoing ...</td>\n",
       "      <td>neg</td>\n",
       "    </tr>\n",
       "  </tbody>\n",
       "</table>\n",
       "</div>"
      ],
      "text/plain": [
       "                                              review sentiment\n",
       "0  plot : two teen couples go to a church party ,...       neg\n",
       "1  the happy bastard's quick movie review \\ndamn ...       neg\n",
       "2  it is movies like these that make a jaded movi...       neg\n",
       "3   \" quest for camelot \" is warner bros . ' firs...       neg\n",
       "4  synopsis : a mentally unstable man undergoing ...       neg"
      ]
     },
     "execution_count": 101,
     "metadata": {},
     "output_type": "execute_result"
    }
   ],
   "source": [
    "# Import necessary libraries\n",
    "import pandas as pd\n",
    "from nltk.corpus import movie_reviews\n",
    "\n",
    "# Load the dataset\n",
    "reviews = []\n",
    "labels = []\n",
    "\n",
    "# Extract reviews and their corresponding sentiments (pos/neg)\n",
    "for fileid in movie_reviews.fileids():\n",
    "    reviews.append(movie_reviews.raw(fileid))\n",
    "    labels.append(fileid.split('/')[0])  # 'pos' or 'neg' is part of the file name\n",
    "\n",
    "# Create a DataFrame\n",
    "df = pd.DataFrame({\n",
    "    'review': reviews,\n",
    "    'sentiment': labels\n",
    "})\n",
    "\n",
    "# Show the first few rows of the dataset\n",
    "df.head()"
   ]
  },
  {
   "cell_type": "code",
   "execution_count": 102,
   "metadata": {},
   "outputs": [],
   "source": [
    "df.to_csv('data/data.csv')"
   ]
  },
  {
   "cell_type": "code",
   "execution_count": 3,
   "metadata": {},
   "outputs": [
    {
     "data": {
      "text/plain": [
       "sentiment\n",
       "neg    1000\n",
       "pos    1000\n",
       "Name: count, dtype: int64"
      ]
     },
     "execution_count": 3,
     "metadata": {},
     "output_type": "execute_result"
    }
   ],
   "source": [
    "df.sentiment.value_counts()"
   ]
  },
  {
   "cell_type": "markdown",
   "metadata": {
    "id": "k4n_ww-Tmuxc"
   },
   "source": [
    "# **Data Cleaning**"
   ]
  },
  {
   "cell_type": "markdown",
   "metadata": {
    "id": "Jlea3Glnrkv2"
   },
   "source": [
    "Converting all text to lowercase to ensure uniformity and reduce the complexity of the analysis."
   ]
  },
  {
   "cell_type": "code",
   "execution_count": 4,
   "metadata": {
    "colab": {
     "base_uri": "https://localhost:8080/"
    },
    "id": "PyRlc_Y_llQD",
    "outputId": "e1d7fb12-c463-4a24-9869-06f30f1188ce"
   },
   "outputs": [
    {
     "data": {
      "text/html": [
       "<div>\n",
       "<style scoped>\n",
       "    .dataframe tbody tr th:only-of-type {\n",
       "        vertical-align: middle;\n",
       "    }\n",
       "\n",
       "    .dataframe tbody tr th {\n",
       "        vertical-align: top;\n",
       "    }\n",
       "\n",
       "    .dataframe thead th {\n",
       "        text-align: right;\n",
       "    }\n",
       "</style>\n",
       "<table border=\"1\" class=\"dataframe\">\n",
       "  <thead>\n",
       "    <tr style=\"text-align: right;\">\n",
       "      <th></th>\n",
       "      <th>review</th>\n",
       "      <th>cleaned_review</th>\n",
       "    </tr>\n",
       "  </thead>\n",
       "  <tbody>\n",
       "    <tr>\n",
       "      <th>0</th>\n",
       "      <td>plot : two teen couples go to a church party ,...</td>\n",
       "      <td>plot two teen couples go to a church party dri...</td>\n",
       "    </tr>\n",
       "    <tr>\n",
       "      <th>1</th>\n",
       "      <td>the happy bastard's quick movie review \\ndamn ...</td>\n",
       "      <td>the happy bastards quick movie review damn tha...</td>\n",
       "    </tr>\n",
       "    <tr>\n",
       "      <th>2</th>\n",
       "      <td>it is movies like these that make a jaded movi...</td>\n",
       "      <td>it is movies like these that make a jaded movi...</td>\n",
       "    </tr>\n",
       "    <tr>\n",
       "      <th>3</th>\n",
       "      <td>\" quest for camelot \" is warner bros . ' firs...</td>\n",
       "      <td>quest for camelot is warner bros first featur...</td>\n",
       "    </tr>\n",
       "    <tr>\n",
       "      <th>4</th>\n",
       "      <td>synopsis : a mentally unstable man undergoing ...</td>\n",
       "      <td>synopsis a mentally unstable man undergoing ps...</td>\n",
       "    </tr>\n",
       "  </tbody>\n",
       "</table>\n",
       "</div>"
      ],
      "text/plain": [
       "                                              review  \\\n",
       "0  plot : two teen couples go to a church party ,...   \n",
       "1  the happy bastard's quick movie review \\ndamn ...   \n",
       "2  it is movies like these that make a jaded movi...   \n",
       "3   \" quest for camelot \" is warner bros . ' firs...   \n",
       "4  synopsis : a mentally unstable man undergoing ...   \n",
       "\n",
       "                                      cleaned_review  \n",
       "0  plot two teen couples go to a church party dri...  \n",
       "1  the happy bastards quick movie review damn tha...  \n",
       "2  it is movies like these that make a jaded movi...  \n",
       "3   quest for camelot is warner bros first featur...  \n",
       "4  synopsis a mentally unstable man undergoing ps...  "
      ]
     },
     "execution_count": 4,
     "metadata": {},
     "output_type": "execute_result"
    }
   ],
   "source": [
    "import re\n",
    "\n",
    "def clean_text(text):\n",
    "    # Lowercasing\n",
    "    text = text.lower()\n",
    "\n",
    "    # Remove special characters and numbers\n",
    "    text = re.sub(r'[^a-z\\s]', '', text)\n",
    "    text = re.sub(r'\\s+', ' ', text)\n",
    "    return text\n",
    "\n",
    "# Apply the cleaning function\n",
    "df['cleaned_review'] = df['review'].apply(clean_text)\n",
    "\n",
    "# Check the cleaned data\n",
    "df[['review', 'cleaned_review']].head()\n"
   ]
  },
  {
   "cell_type": "markdown",
   "metadata": {},
   "source": [
    "# Removing Stopwords (except negations) "
   ]
  },
  {
   "cell_type": "code",
   "execution_count": 5,
   "metadata": {},
   "outputs": [],
   "source": [
    "import spacy\n",
    "\n",
    "# Charger le modèle de langue anglais\n",
    "nlp = spacy.load(\"en_core_web_sm\")\n",
    "\n",
    "# Récupérer la liste des stop words\n",
    "stop_words_spacy = nlp.Defaults.stop_words"
   ]
  },
  {
   "cell_type": "code",
   "execution_count": 6,
   "metadata": {},
   "outputs": [
    {
     "data": {
      "text/plain": [
       "326"
      ]
     },
     "execution_count": 6,
     "metadata": {},
     "output_type": "execute_result"
    }
   ],
   "source": [
    "len(stop_words_spacy)"
   ]
  },
  {
   "cell_type": "code",
   "execution_count": 7,
   "metadata": {},
   "outputs": [],
   "source": [
    "from nltk.corpus    import stopwords\n",
    "stop_words_nltk = set(stopwords.words('english'))"
   ]
  },
  {
   "cell_type": "code",
   "execution_count": 8,
   "metadata": {},
   "outputs": [
    {
     "data": {
      "text/plain": [
       "179"
      ]
     },
     "execution_count": 8,
     "metadata": {},
     "output_type": "execute_result"
    }
   ],
   "source": [
    "len(stop_words_nltk)"
   ]
  },
  {
   "cell_type": "markdown",
   "metadata": {},
   "source": [
    "#### We will use the predefined STOPWORDS by Spacy , because it contains more words than NLTK"
   ]
  },
  {
   "cell_type": "code",
   "execution_count": 9,
   "metadata": {},
   "outputs": [
    {
     "data": {
      "text/html": [
       "<div>\n",
       "<style scoped>\n",
       "    .dataframe tbody tr th:only-of-type {\n",
       "        vertical-align: middle;\n",
       "    }\n",
       "\n",
       "    .dataframe tbody tr th {\n",
       "        vertical-align: top;\n",
       "    }\n",
       "\n",
       "    .dataframe thead th {\n",
       "        text-align: right;\n",
       "    }\n",
       "</style>\n",
       "<table border=\"1\" class=\"dataframe\">\n",
       "  <thead>\n",
       "    <tr style=\"text-align: right;\">\n",
       "      <th></th>\n",
       "      <th>review</th>\n",
       "      <th>cleaned_review</th>\n",
       "    </tr>\n",
       "  </thead>\n",
       "  <tbody>\n",
       "    <tr>\n",
       "      <th>0</th>\n",
       "      <td>plot : two teen couples go to a church party ,...</td>\n",
       "      <td>plot teen couples church party drink drive acc...</td>\n",
       "    </tr>\n",
       "    <tr>\n",
       "      <th>1</th>\n",
       "      <td>the happy bastard's quick movie review \\ndamn ...</td>\n",
       "      <td>happy bastards quick movie review damn yk bug ...</td>\n",
       "    </tr>\n",
       "    <tr>\n",
       "      <th>2</th>\n",
       "      <td>it is movies like these that make a jaded movi...</td>\n",
       "      <td>movies like jaded movie viewer thankful invent...</td>\n",
       "    </tr>\n",
       "    <tr>\n",
       "      <th>3</th>\n",
       "      <td>\" quest for camelot \" is warner bros . ' firs...</td>\n",
       "      <td>quest camelot warner bros featurelength fullya...</td>\n",
       "    </tr>\n",
       "    <tr>\n",
       "      <th>4</th>\n",
       "      <td>synopsis : a mentally unstable man undergoing ...</td>\n",
       "      <td>synopsis mentally unstable man undergoing psyc...</td>\n",
       "    </tr>\n",
       "  </tbody>\n",
       "</table>\n",
       "</div>"
      ],
      "text/plain": [
       "                                              review  \\\n",
       "0  plot : two teen couples go to a church party ,...   \n",
       "1  the happy bastard's quick movie review \\ndamn ...   \n",
       "2  it is movies like these that make a jaded movi...   \n",
       "3   \" quest for camelot \" is warner bros . ' firs...   \n",
       "4  synopsis : a mentally unstable man undergoing ...   \n",
       "\n",
       "                                      cleaned_review  \n",
       "0  plot teen couples church party drink drive acc...  \n",
       "1  happy bastards quick movie review damn yk bug ...  \n",
       "2  movies like jaded movie viewer thankful invent...  \n",
       "3  quest camelot warner bros featurelength fullya...  \n",
       "4  synopsis mentally unstable man undergoing psyc...  "
      ]
     },
     "execution_count": 9,
     "metadata": {},
     "output_type": "execute_result"
    }
   ],
   "source": [
    "def remove_stopwords(text):\n",
    "    tokens = text.split() \n",
    "    filtered_tokens = [word for word in tokens if word not in stop_words_spacy]  \n",
    "    return ' '.join(filtered_tokens)  \n",
    "\n",
    "df['cleaned_review'] = df['cleaned_review'].apply(remove_stopwords)\n",
    "\n",
    "df[['review', 'cleaned_review']].head()"
   ]
  },
  {
   "cell_type": "markdown",
   "metadata": {
    "id": "zL-a8Gb5nUG7"
   },
   "source": [
    "# **Tokenization**"
   ]
  },
  {
   "cell_type": "markdown",
   "metadata": {
    "id": "3GBZdiyErpIf"
   },
   "source": [
    " This step splits the cleaned text into individual words (tokens). Tokenization is essential because it allows us to analyze the text at a granular level."
   ]
  },
  {
   "cell_type": "code",
   "execution_count": 10,
   "metadata": {
    "colab": {
     "base_uri": "https://localhost:8080/"
    },
    "id": "DRNC55Lsm5uT",
    "outputId": "1e38594d-edea-400e-ef53-990b54c6244f"
   },
   "outputs": [
    {
     "name": "stderr",
     "output_type": "stream",
     "text": [
      "100%|██████████| 2000/2000 [00:53<00:00, 37.16it/s]\n"
     ]
    },
    {
     "data": {
      "text/html": [
       "<div>\n",
       "<style scoped>\n",
       "    .dataframe tbody tr th:only-of-type {\n",
       "        vertical-align: middle;\n",
       "    }\n",
       "\n",
       "    .dataframe tbody tr th {\n",
       "        vertical-align: top;\n",
       "    }\n",
       "\n",
       "    .dataframe thead th {\n",
       "        text-align: right;\n",
       "    }\n",
       "</style>\n",
       "<table border=\"1\" class=\"dataframe\">\n",
       "  <thead>\n",
       "    <tr style=\"text-align: right;\">\n",
       "      <th></th>\n",
       "      <th>cleaned_review</th>\n",
       "      <th>tokens</th>\n",
       "    </tr>\n",
       "  </thead>\n",
       "  <tbody>\n",
       "    <tr>\n",
       "      <th>0</th>\n",
       "      <td>plot teen couples church party drink drive acc...</td>\n",
       "      <td>[plot, teen, couples, church, party, drink, dr...</td>\n",
       "    </tr>\n",
       "    <tr>\n",
       "      <th>1</th>\n",
       "      <td>happy bastards quick movie review damn yk bug ...</td>\n",
       "      <td>[happy, bastards, quick, movie, review, damn, ...</td>\n",
       "    </tr>\n",
       "    <tr>\n",
       "      <th>2</th>\n",
       "      <td>movies like jaded movie viewer thankful invent...</td>\n",
       "      <td>[movies, like, jaded, movie, viewer, thankful,...</td>\n",
       "    </tr>\n",
       "    <tr>\n",
       "      <th>3</th>\n",
       "      <td>quest camelot warner bros featurelength fullya...</td>\n",
       "      <td>[quest, camelot, warner, bros, featurelength, ...</td>\n",
       "    </tr>\n",
       "    <tr>\n",
       "      <th>4</th>\n",
       "      <td>synopsis mentally unstable man undergoing psyc...</td>\n",
       "      <td>[synopsis, mentally, unstable, man, undergoing...</td>\n",
       "    </tr>\n",
       "  </tbody>\n",
       "</table>\n",
       "</div>"
      ],
      "text/plain": [
       "                                      cleaned_review  \\\n",
       "0  plot teen couples church party drink drive acc...   \n",
       "1  happy bastards quick movie review damn yk bug ...   \n",
       "2  movies like jaded movie viewer thankful invent...   \n",
       "3  quest camelot warner bros featurelength fullya...   \n",
       "4  synopsis mentally unstable man undergoing psyc...   \n",
       "\n",
       "                                              tokens  \n",
       "0  [plot, teen, couples, church, party, drink, dr...  \n",
       "1  [happy, bastards, quick, movie, review, damn, ...  \n",
       "2  [movies, like, jaded, movie, viewer, thankful,...  \n",
       "3  [quest, camelot, warner, bros, featurelength, ...  \n",
       "4  [synopsis, mentally, unstable, man, undergoing...  "
      ]
     },
     "execution_count": 10,
     "metadata": {},
     "output_type": "execute_result"
    }
   ],
   "source": [
    "import pandas as pd\n",
    "import spacy\n",
    "from tqdm import tqdm  # Import tqdm for progress tracking\n",
    "\n",
    "# Load the SpaCy language model\n",
    "nlp = spacy.load('en_core_web_sm')\n",
    "\n",
    "# Function for tokenization\n",
    "def tokenize_text(text):\n",
    "    doc = nlp(text)\n",
    "    return [token.text for token in doc]\n",
    "\n",
    "# Assume df is your DataFrame and has a 'cleaned_review' column\n",
    "# If you want to track progress in a Jupyter notebook, you can use tqdm\n",
    "tqdm.pandas()\n",
    "\n",
    "# Apply tokenization to cleaned reviews\n",
    "df['tokens'] = df['cleaned_review'].progress_apply(tokenize_text)\n",
    "\n",
    "# Check the tokenized data\n",
    "df[['cleaned_review', 'tokens']].head()"
   ]
  },
  {
   "cell_type": "code",
   "execution_count": 11,
   "metadata": {},
   "outputs": [
    {
     "data": {
      "text/plain": [
       "'plot teen couples church party drink drive accident guys dies girlfriend continues life nightmares whats deal watch movie sorta find critique mindfuck movie teen generation touches cool idea presents bad package makes review harder write generally applaud films attempt break mold mess head lost highway memento good bad ways making types films folks didnt snag correctly taken pretty neat concept executed terribly problems movie main problem simply jumbled starts normal downshifts fantasy world audience member idea whats going dreams characters coming dead look like dead strange apparitions disappearances looooot chase scenes tons weird things happen simply explained personally dont mind trying unravel film clue kind fed films biggest problem obviously got big secret hide want hide completely final minutes things entertaining thrilling engaging meantime sad arrow dig flicks like actually figured halfway point strangeness start little bit sense didnt film entertaining guess line movies like sure audience given secret password enter world understanding mean showing melissa sagemiller running away visions minutes movie plain lazy okay people chasing dont know need giving different scenes offering insight strangeness going movie apparently studio took film away director chopped shows mightve pretty decent teen mindfuck movie guess suits decided turning music video little edge sense actors pretty good wes bentley playing exact character american beauty new neighborhood biggest kudos sagemiller holds entire film actually feeling characters unraveling overall film doesnt stick doesnt entertain confusing rarely excites feels pretty redundant runtime despite pretty cool ending explanation craziness came oh way horror teen slasher flick packaged look way apparently assuming genre hot kids wrapped production years ago sitting shelves skip wheres joblo coming nightmare elm street blair witch crow crow salvation lost highway memento stir echoes'"
      ]
     },
     "execution_count": 11,
     "metadata": {},
     "output_type": "execute_result"
    }
   ],
   "source": [
    "df.cleaned_review.iloc[0]"
   ]
  },
  {
   "cell_type": "code",
   "execution_count": 12,
   "metadata": {
    "colab": {
     "base_uri": "https://localhost:8080/",
     "height": 241
    },
    "id": "L6fJXVJsnHLB",
    "outputId": "fe44816b-214c-4825-d091-2dceb95045c3"
   },
   "outputs": [
    {
     "data": {
      "text/plain": [
       "0    [plot, teen, couples, church, party, drink, dr...\n",
       "1    [happy, bastards, quick, movie, review, damn, ...\n",
       "2    [movies, like, jaded, movie, viewer, thankful,...\n",
       "3    [quest, camelot, warner, bros, featurelength, ...\n",
       "4    [synopsis, mentally, unstable, man, undergoing...\n",
       "Name: tokens, dtype: object"
      ]
     },
     "execution_count": 12,
     "metadata": {},
     "output_type": "execute_result"
    }
   ],
   "source": [
    "df['tokens'].head()"
   ]
  },
  {
   "cell_type": "markdown",
   "metadata": {},
   "source": [
    "# Stemming"
   ]
  },
  {
   "cell_type": "code",
   "execution_count": 13,
   "metadata": {},
   "outputs": [
    {
     "name": "stderr",
     "output_type": "stream",
     "text": [
      "100%|██████████| 2000/2000 [00:07<00:00, 281.76it/s]\n"
     ]
    },
    {
     "data": {
      "text/html": [
       "<div>\n",
       "<style scoped>\n",
       "    .dataframe tbody tr th:only-of-type {\n",
       "        vertical-align: middle;\n",
       "    }\n",
       "\n",
       "    .dataframe tbody tr th {\n",
       "        vertical-align: top;\n",
       "    }\n",
       "\n",
       "    .dataframe thead th {\n",
       "        text-align: right;\n",
       "    }\n",
       "</style>\n",
       "<table border=\"1\" class=\"dataframe\">\n",
       "  <thead>\n",
       "    <tr style=\"text-align: right;\">\n",
       "      <th></th>\n",
       "      <th>tokens</th>\n",
       "      <th>stemmed_tokens</th>\n",
       "    </tr>\n",
       "  </thead>\n",
       "  <tbody>\n",
       "    <tr>\n",
       "      <th>0</th>\n",
       "      <td>[plot, teen, couples, church, party, drink, dr...</td>\n",
       "      <td>[plot, teen, coupl, church, parti, drink, driv...</td>\n",
       "    </tr>\n",
       "    <tr>\n",
       "      <th>1</th>\n",
       "      <td>[happy, bastards, quick, movie, review, damn, ...</td>\n",
       "      <td>[happi, bastard, quick, movi, review, damn, yk...</td>\n",
       "    </tr>\n",
       "    <tr>\n",
       "      <th>2</th>\n",
       "      <td>[movies, like, jaded, movie, viewer, thankful,...</td>\n",
       "      <td>[movi, like, jade, movi, viewer, thank, invent...</td>\n",
       "    </tr>\n",
       "    <tr>\n",
       "      <th>3</th>\n",
       "      <td>[quest, camelot, warner, bros, featurelength, ...</td>\n",
       "      <td>[quest, camelot, warner, bro, featurelength, f...</td>\n",
       "    </tr>\n",
       "    <tr>\n",
       "      <th>4</th>\n",
       "      <td>[synopsis, mentally, unstable, man, undergoing...</td>\n",
       "      <td>[synopsi, mental, unstabl, man, undergo, psych...</td>\n",
       "    </tr>\n",
       "  </tbody>\n",
       "</table>\n",
       "</div>"
      ],
      "text/plain": [
       "                                              tokens  \\\n",
       "0  [plot, teen, couples, church, party, drink, dr...   \n",
       "1  [happy, bastards, quick, movie, review, damn, ...   \n",
       "2  [movies, like, jaded, movie, viewer, thankful,...   \n",
       "3  [quest, camelot, warner, bros, featurelength, ...   \n",
       "4  [synopsis, mentally, unstable, man, undergoing...   \n",
       "\n",
       "                                      stemmed_tokens  \n",
       "0  [plot, teen, coupl, church, parti, drink, driv...  \n",
       "1  [happi, bastard, quick, movi, review, damn, yk...  \n",
       "2  [movi, like, jade, movi, viewer, thank, invent...  \n",
       "3  [quest, camelot, warner, bro, featurelength, f...  \n",
       "4  [synopsi, mental, unstabl, man, undergo, psych...  "
      ]
     },
     "execution_count": 13,
     "metadata": {},
     "output_type": "execute_result"
    }
   ],
   "source": [
    "import pandas as pd\n",
    "from nltk.stem import PorterStemmer\n",
    "from tqdm import tqdm  \n",
    "\n",
    "# Initialize the Porter Stemmer\n",
    "stemmer = PorterStemmer()\n",
    "\n",
    "def stem_tokens(tokens):\n",
    "    return [stemmer.stem(token) for token in tokens]\n",
    "\n",
    "# Apply stemming to the tokens\n",
    "df['stemmed_tokens'] = df['tokens'].progress_apply(stem_tokens)\n",
    "\n",
    "# Display the results\n",
    "df[['tokens', 'stemmed_tokens']].head()"
   ]
  },
  {
   "cell_type": "markdown",
   "metadata": {
    "id": "Wb4dBVVOomCK"
   },
   "source": [
    "# **Lemmatization**"
   ]
  },
  {
   "cell_type": "markdown",
   "metadata": {
    "id": "tGmU-t64sCTH"
   },
   "source": [
    "This step reduces words to their base form (lemma) while considering the context provided by the POS tag (e.g., \"running\" becomes \"run\"). This is more sophisticated than stemming because it aims for a proper dictionary form of the word."
   ]
  },
  {
   "cell_type": "code",
   "execution_count": 14,
   "metadata": {
    "colab": {
     "base_uri": "https://localhost:8080/"
    },
    "id": "Fi1ZTjuworUp",
    "outputId": "eb5a423e-be39-49f4-cf59-199b846a7140"
   },
   "outputs": [
    {
     "name": "stderr",
     "output_type": "stream",
     "text": [
      "100%|██████████| 2000/2000 [00:49<00:00, 40.55it/s]"
     ]
    },
    {
     "name": "stdout",
     "output_type": "stream",
     "text": [
      "                                              tokens  \\\n",
      "0  [plot, teen, couples, church, party, drink, dr...   \n",
      "1  [happy, bastards, quick, movie, review, damn, ...   \n",
      "2  [movies, like, jaded, movie, viewer, thankful,...   \n",
      "3  [quest, camelot, warner, bros, featurelength, ...   \n",
      "4  [synopsis, mentally, unstable, man, undergoing...   \n",
      "\n",
      "                                   lemmatized_tokens  \n",
      "0  [plot, teen, couple, church, party, drink, dri...  \n",
      "1  [happy, bastard, quick, movie, review, damn, y...  \n",
      "2  [movie, like, jade, movie, viewer, thankful, i...  \n",
      "3  [quest, camelot, warner, bros, featurelength, ...  \n",
      "4  [synopsis, mentally, unstable, man, undergo, p...  \n"
     ]
    },
    {
     "name": "stderr",
     "output_type": "stream",
     "text": [
      "\n"
     ]
    }
   ],
   "source": [
    "def lemmatize_tokens(tokens):\n",
    "    doc = nlp(\" \".join(tokens))  \n",
    "    return [token.lemma_ for token in doc]\n",
    "\n",
    "# Apply lemmatization to the filtered tokens\n",
    "df['lemmatized_tokens'] = df['tokens'].progress_apply(lemmatize_tokens)\n",
    "\n",
    "print(df[['tokens', 'lemmatized_tokens']].head())"
   ]
  },
  {
   "cell_type": "code",
   "execution_count": 15,
   "metadata": {},
   "outputs": [
    {
     "data": {
      "text/html": [
       "<div>\n",
       "<style scoped>\n",
       "    .dataframe tbody tr th:only-of-type {\n",
       "        vertical-align: middle;\n",
       "    }\n",
       "\n",
       "    .dataframe tbody tr th {\n",
       "        vertical-align: top;\n",
       "    }\n",
       "\n",
       "    .dataframe thead th {\n",
       "        text-align: right;\n",
       "    }\n",
       "</style>\n",
       "<table border=\"1\" class=\"dataframe\">\n",
       "  <thead>\n",
       "    <tr style=\"text-align: right;\">\n",
       "      <th></th>\n",
       "      <th>tokens</th>\n",
       "      <th>lemmatized_tokens</th>\n",
       "    </tr>\n",
       "  </thead>\n",
       "  <tbody>\n",
       "    <tr>\n",
       "      <th>0</th>\n",
       "      <td>[plot, teen, couples, church, party, drink, dr...</td>\n",
       "      <td>[plot, teen, couple, church, party, drink, dri...</td>\n",
       "    </tr>\n",
       "    <tr>\n",
       "      <th>1</th>\n",
       "      <td>[happy, bastards, quick, movie, review, damn, ...</td>\n",
       "      <td>[happy, bastard, quick, movie, review, damn, y...</td>\n",
       "    </tr>\n",
       "    <tr>\n",
       "      <th>2</th>\n",
       "      <td>[movies, like, jaded, movie, viewer, thankful,...</td>\n",
       "      <td>[movie, like, jade, movie, viewer, thankful, i...</td>\n",
       "    </tr>\n",
       "    <tr>\n",
       "      <th>3</th>\n",
       "      <td>[quest, camelot, warner, bros, featurelength, ...</td>\n",
       "      <td>[quest, camelot, warner, bros, featurelength, ...</td>\n",
       "    </tr>\n",
       "    <tr>\n",
       "      <th>4</th>\n",
       "      <td>[synopsis, mentally, unstable, man, undergoing...</td>\n",
       "      <td>[synopsis, mentally, unstable, man, undergo, p...</td>\n",
       "    </tr>\n",
       "  </tbody>\n",
       "</table>\n",
       "</div>"
      ],
      "text/plain": [
       "                                              tokens  \\\n",
       "0  [plot, teen, couples, church, party, drink, dr...   \n",
       "1  [happy, bastards, quick, movie, review, damn, ...   \n",
       "2  [movies, like, jaded, movie, viewer, thankful,...   \n",
       "3  [quest, camelot, warner, bros, featurelength, ...   \n",
       "4  [synopsis, mentally, unstable, man, undergoing...   \n",
       "\n",
       "                                   lemmatized_tokens  \n",
       "0  [plot, teen, couple, church, party, drink, dri...  \n",
       "1  [happy, bastard, quick, movie, review, damn, y...  \n",
       "2  [movie, like, jade, movie, viewer, thankful, i...  \n",
       "3  [quest, camelot, warner, bros, featurelength, ...  \n",
       "4  [synopsis, mentally, unstable, man, undergo, p...  "
      ]
     },
     "execution_count": 15,
     "metadata": {},
     "output_type": "execute_result"
    }
   ],
   "source": [
    "df[['tokens', 'lemmatized_tokens']].head()"
   ]
  },
  {
   "cell_type": "markdown",
   "metadata": {
    "id": "sge3IjvBqaZR"
   },
   "source": [
    "# **POS Tagging**"
   ]
  },
  {
   "cell_type": "markdown",
   "metadata": {
    "id": "Sbf2EGa2sNZG"
   },
   "source": [
    " This step assigns part-of-speech tags to the lemmatized tokens, providing information about the grammatical role of each word in the context of the sentence."
   ]
  },
  {
   "cell_type": "code",
   "execution_count": 16,
   "metadata": {},
   "outputs": [
    {
     "name": "stderr",
     "output_type": "stream",
     "text": [
      "100%|██████████| 2000/2000 [00:50<00:00, 39.58it/s]\n"
     ]
    },
    {
     "data": {
      "text/html": [
       "<div>\n",
       "<style scoped>\n",
       "    .dataframe tbody tr th:only-of-type {\n",
       "        vertical-align: middle;\n",
       "    }\n",
       "\n",
       "    .dataframe tbody tr th {\n",
       "        vertical-align: top;\n",
       "    }\n",
       "\n",
       "    .dataframe thead th {\n",
       "        text-align: right;\n",
       "    }\n",
       "</style>\n",
       "<table border=\"1\" class=\"dataframe\">\n",
       "  <thead>\n",
       "    <tr style=\"text-align: right;\">\n",
       "      <th></th>\n",
       "      <th>pos_tags</th>\n",
       "    </tr>\n",
       "  </thead>\n",
       "  <tbody>\n",
       "    <tr>\n",
       "      <th>0</th>\n",
       "      <td>[(plot, plot, NOUN), (teen, teen, NOUN), (coup...</td>\n",
       "    </tr>\n",
       "    <tr>\n",
       "      <th>1</th>\n",
       "      <td>[(happy, happy, ADJ), (bastard, bastard, NOUN)...</td>\n",
       "    </tr>\n",
       "    <tr>\n",
       "      <th>2</th>\n",
       "      <td>[(movie, movie, NOUN), (like, like, ADP), (jad...</td>\n",
       "    </tr>\n",
       "    <tr>\n",
       "      <th>3</th>\n",
       "      <td>[(quest, quest, PROPN), (camelot, camelot, PRO...</td>\n",
       "    </tr>\n",
       "    <tr>\n",
       "      <th>4</th>\n",
       "      <td>[(synopsis, synopsis, NOUN), (mentally, mental...</td>\n",
       "    </tr>\n",
       "  </tbody>\n",
       "</table>\n",
       "</div>"
      ],
      "text/plain": [
       "                                            pos_tags\n",
       "0  [(plot, plot, NOUN), (teen, teen, NOUN), (coup...\n",
       "1  [(happy, happy, ADJ), (bastard, bastard, NOUN)...\n",
       "2  [(movie, movie, NOUN), (like, like, ADP), (jad...\n",
       "3  [(quest, quest, PROPN), (camelot, camelot, PRO...\n",
       "4  [(synopsis, synopsis, NOUN), (mentally, mental..."
      ]
     },
     "execution_count": 16,
     "metadata": {},
     "output_type": "execute_result"
    }
   ],
   "source": [
    "def pos_tagging(tokens):\n",
    "    doc = nlp(\" \".join(tokens))  # Join tokens back to string for processing\n",
    "    return [(token.text, token.lemma_, token.pos_) for token in doc]\n",
    "\n",
    "df['pos_tags'] = df['lemmatized_tokens'].progress_apply(pos_tagging)\n",
    "\n",
    "df[['pos_tags']].head()"
   ]
  },
  {
   "cell_type": "code",
   "execution_count": 19,
   "metadata": {},
   "outputs": [
    {
     "data": {
      "text/html": [
       "<div>\n",
       "<style scoped>\n",
       "    .dataframe tbody tr th:only-of-type {\n",
       "        vertical-align: middle;\n",
       "    }\n",
       "\n",
       "    .dataframe tbody tr th {\n",
       "        vertical-align: top;\n",
       "    }\n",
       "\n",
       "    .dataframe thead th {\n",
       "        text-align: right;\n",
       "    }\n",
       "</style>\n",
       "<table border=\"1\" class=\"dataframe\">\n",
       "  <thead>\n",
       "    <tr style=\"text-align: right;\">\n",
       "      <th></th>\n",
       "      <th>lemmatized_tokens</th>\n",
       "      <th>filtered_tokens</th>\n",
       "    </tr>\n",
       "  </thead>\n",
       "  <tbody>\n",
       "    <tr>\n",
       "      <th>0</th>\n",
       "      <td>[plot, teen, couple, church, party, drink, dri...</td>\n",
       "      <td>[die, continue, nightmare, s, find, touch, coo...</td>\n",
       "    </tr>\n",
       "    <tr>\n",
       "      <th>1</th>\n",
       "      <td>[happy, bastard, quick, movie, review, damn, y...</td>\n",
       "      <td>[happy, quick, get, start, tugboat, come, dese...</td>\n",
       "    </tr>\n",
       "    <tr>\n",
       "      <th>2</th>\n",
       "      <td>[movie, like, jade, movie, viewer, thankful, i...</td>\n",
       "      <td>[thankful, tell, employ, undercover, wrong, st...</td>\n",
       "    </tr>\n",
       "    <tr>\n",
       "      <th>3</th>\n",
       "      <td>[quest, camelot, warner, bros, featurelength, ...</td>\n",
       "      <td>[steal, recent, cast, colorful, beat, come, go...</td>\n",
       "    </tr>\n",
       "    <tr>\n",
       "      <th>4</th>\n",
       "      <td>[synopsis, mentally, unstable, man, undergo, p...</td>\n",
       "      <td>[unstable, undergo, fatal, attempt, gain, take...</td>\n",
       "    </tr>\n",
       "  </tbody>\n",
       "</table>\n",
       "</div>"
      ],
      "text/plain": [
       "                                   lemmatized_tokens  \\\n",
       "0  [plot, teen, couple, church, party, drink, dri...   \n",
       "1  [happy, bastard, quick, movie, review, damn, y...   \n",
       "2  [movie, like, jade, movie, viewer, thankful, i...   \n",
       "3  [quest, camelot, warner, bros, featurelength, ...   \n",
       "4  [synopsis, mentally, unstable, man, undergo, p...   \n",
       "\n",
       "                                     filtered_tokens  \n",
       "0  [die, continue, nightmare, s, find, touch, coo...  \n",
       "1  [happy, quick, get, start, tugboat, come, dese...  \n",
       "2  [thankful, tell, employ, undercover, wrong, st...  \n",
       "3  [steal, recent, cast, colorful, beat, come, go...  \n",
       "4  [unstable, undergo, fatal, attempt, gain, take...  "
      ]
     },
     "execution_count": 19,
     "metadata": {},
     "output_type": "execute_result"
    }
   ],
   "source": [
    "def pos_tagging_and_filter(tokens):\n",
    "    # Apply POS tagging\n",
    "    doc=nlp(' '.join(tokens))\n",
    "\n",
    "    # Filter only nouns and verbs\n",
    "    filtered_tokens = [token for token in doc if token.pos_ == 'NN' or token.pos_ == 'ADJ' or token.pos_ == 'VERB']\n",
    "\n",
    "    return filtered_tokens\n",
    "\n",
    "# Apply POS tagging and filtering to lemmatized tokens\n",
    "df['filtered_tokens'] = df['lemmatized_tokens'].apply(pos_tagging_and_filter)\n",
    "\n",
    "# Check the filtered data (verbs and nouns only)\n",
    "df[['lemmatized_tokens', 'filtered_tokens']].head()"
   ]
  },
  {
   "cell_type": "markdown",
   "metadata": {
    "id": "XsIFjSShsoeW"
   },
   "source": [
    "# **Word Embedding**"
   ]
  },
  {
   "cell_type": "markdown",
   "metadata": {
    "id": "PIPMCc2us0KW"
   },
   "source": [
    "## **TF-IDF**"
   ]
  },
  {
   "cell_type": "code",
   "execution_count": 37,
   "metadata": {},
   "outputs": [],
   "source": [
    "def filter_text(sequence):\n",
    "    s=[]\n",
    "    for token in sequence :\n",
    "        s.append(str(token))\n",
    "    return ' '.join(s)"
   ]
  },
  {
   "cell_type": "code",
   "execution_count": null,
   "metadata": {},
   "outputs": [],
   "source": [
    "df[['sentiment', 'filtered_text']].to_csv('data/preprocessed_data.csv')"
   ]
  },
  {
   "cell_type": "markdown",
   "metadata": {
    "id": "dxN-qyixs-Ee"
   },
   "source": [
    " We initialize the TfidfVectorizer from Scikit-learn and fit it to the cleaned reviews. TF-IDF is used to convert the text data into a numerical format, reflecting the importance of each term in the context of the entire dataset."
   ]
  },
  {
   "cell_type": "code",
   "execution_count": 38,
   "metadata": {
    "id": "RpgB-woHspDm"
   },
   "outputs": [],
   "source": [
    "from sklearn.feature_extraction.text import TfidfVectorizer\n",
    "\n",
    "df['filtered_text'] = df['filtered_tokens'].apply(filter_text)\n",
    "\n",
    "# Initialize the TF-IDF Vectorizer\n",
    "tfidf_vectorizer = TfidfVectorizer(max_features=5000)  # Limit to 5000 features for simplicity\n",
    "\n",
    "# Fit and transform the cleaned reviews\n",
    "tfidf_matrix = tfidf_vectorizer.fit_transform(df['filtered_text'])\n",
    "\n",
    "# Convert to DataFrame for better visualization\n",
    "tfidf_df = pd.DataFrame(tfidf_matrix.toarray(), columns=tfidf_vectorizer.get_feature_names_out())\n",
    "\n",
    "\n",
    "\n"
   ]
  },
  {
   "cell_type": "markdown",
   "metadata": {
    "id": "Hssn4E4nuaNE"
   },
   "source": [
    "## **FastText**"
   ]
  },
  {
   "cell_type": "markdown",
   "metadata": {
    "id": "FLCbktBtue6c"
   },
   "source": [
    "We prepare the data in a format suitable for FastText and train the FastText model. FastText considers subword information, making it effective for morphologically rich languages and out-of-vocabulary words."
   ]
  },
  {
   "cell_type": "code",
   "execution_count": 107,
   "metadata": {},
   "outputs": [
    {
     "data": {
      "text/html": [
       "<div>\n",
       "<style scoped>\n",
       "    .dataframe tbody tr th:only-of-type {\n",
       "        vertical-align: middle;\n",
       "    }\n",
       "\n",
       "    .dataframe tbody tr th {\n",
       "        vertical-align: top;\n",
       "    }\n",
       "\n",
       "    .dataframe thead th {\n",
       "        text-align: right;\n",
       "    }\n",
       "</style>\n",
       "<table border=\"1\" class=\"dataframe\">\n",
       "  <thead>\n",
       "    <tr style=\"text-align: right;\">\n",
       "      <th></th>\n",
       "      <th>sentiment</th>\n",
       "      <th>filtered_text</th>\n",
       "      <th>sentence_embedding</th>\n",
       "    </tr>\n",
       "  </thead>\n",
       "  <tbody>\n",
       "    <tr>\n",
       "      <th>0</th>\n",
       "      <td>neg</td>\n",
       "      <td>die continue nightmare s find touch cool prese...</td>\n",
       "      <td>[-0.1114065, -0.18956636, -0.013039182, -0.095...</td>\n",
       "    </tr>\n",
       "    <tr>\n",
       "      <th>1</th>\n",
       "      <td>neg</td>\n",
       "      <td>happy quick get start tugboat come deserted ru...</td>\n",
       "      <td>[-0.11111246, -0.20685868, -0.01965093, -0.094...</td>\n",
       "    </tr>\n",
       "    <tr>\n",
       "      <th>2</th>\n",
       "      <td>neg</td>\n",
       "      <td>thankful tell employ undercover wrong steal qu...</td>\n",
       "      <td>[-0.11836663, -0.18973967, -0.0038995314, -0.1...</td>\n",
       "    </tr>\n",
       "    <tr>\n",
       "      <th>3</th>\n",
       "      <td>neg</td>\n",
       "      <td>steal recent cast colorful beat come good dead...</td>\n",
       "      <td>[-0.11764066, -0.18240635, -0.0067705964, -0.0...</td>\n",
       "    </tr>\n",
       "    <tr>\n",
       "      <th>4</th>\n",
       "      <td>neg</td>\n",
       "      <td>unstable undergo fatal attempt gain take kill ...</td>\n",
       "      <td>[-0.11568695, -0.17534785, -0.004221192, -0.09...</td>\n",
       "    </tr>\n",
       "  </tbody>\n",
       "</table>\n",
       "</div>"
      ],
      "text/plain": [
       "  sentiment                                      filtered_text  \\\n",
       "0       neg  die continue nightmare s find touch cool prese...   \n",
       "1       neg  happy quick get start tugboat come deserted ru...   \n",
       "2       neg  thankful tell employ undercover wrong steal qu...   \n",
       "3       neg  steal recent cast colorful beat come good dead...   \n",
       "4       neg  unstable undergo fatal attempt gain take kill ...   \n",
       "\n",
       "                                  sentence_embedding  \n",
       "0  [-0.1114065, -0.18956636, -0.013039182, -0.095...  \n",
       "1  [-0.11111246, -0.20685868, -0.01965093, -0.094...  \n",
       "2  [-0.11836663, -0.18973967, -0.0038995314, -0.1...  \n",
       "3  [-0.11764066, -0.18240635, -0.0067705964, -0.0...  \n",
       "4  [-0.11568695, -0.17534785, -0.004221192, -0.09...  "
      ]
     },
     "execution_count": 107,
     "metadata": {},
     "output_type": "execute_result"
    }
   ],
   "source": [
    "import fasttext\n",
    "import numpy as np\n",
    "\n",
    "df=pd.read_csv('data/preprocessed_data.csv',index_col=0)\n",
    "df['filtered_text'].to_csv('corpus.txt',header=False)\n",
    "# Entraînement d'un modèle FastText sur votre propre corpus\n",
    "fasttext_model = fasttext.train_unsupervised('corpus.txt', model='skipgram')\n",
    "\n",
    "# Fonction pour obtenir l'embedding d'une phrase\n",
    "def get_sentence_embedding(sentence, model):\n",
    "    words = sentence.split()  # Tokenisation simple\n",
    "    word_vectors = [fasttext_model.get_word_vector(word) for word in words if word in fasttext_model]\n",
    "    \n",
    "    if len(word_vectors) == 0:\n",
    "        return np.zeros(fasttext_model.get_dimension())  # Retourner un vecteur nul si aucun mot n'est trouvé\n",
    "    return np.mean(word_vectors, axis=0)  # Moyenne des embeddings pour la phrase\n",
    "\n",
    "# Charger votre DataFrame (assurez-vous que 'filtered_text' est la colonne de texte)\n",
    "\n",
    "\n",
    "# Calculer les embeddings de chaque phrase et les ajouter comme une nouvelle colonne\n",
    "df['sentence_embedding'] = df['filtered_text'].apply(lambda x: get_sentence_embedding(x, fasttext_model))\n",
    "\n",
    "# Exemple de contenu du DataFrame après l'ajout de l'embedding\n",
    "df.head()"
   ]
  },
  {
   "cell_type": "markdown",
   "metadata": {},
   "source": [
    "### SBERT :"
   ]
  },
  {
   "cell_type": "code",
   "execution_count": 113,
   "metadata": {},
   "outputs": [],
   "source": [
    "from sentence_transformers import SentenceTransformer\n",
    "\n",
    "# Charger le modèle SBERT\n",
    "embedding = SentenceTransformer('all-MiniLM-L6-v2')"
   ]
  },
  {
   "cell_type": "code",
   "execution_count": 114,
   "metadata": {},
   "outputs": [],
   "source": [
    "df['SBERT'] = df['filtered_text'].apply(lambda x: embedding.encode(x))"
   ]
  },
  {
   "cell_type": "code",
   "execution_count": 115,
   "metadata": {},
   "outputs": [
    {
     "data": {
      "text/html": [
       "<div>\n",
       "<style scoped>\n",
       "    .dataframe tbody tr th:only-of-type {\n",
       "        vertical-align: middle;\n",
       "    }\n",
       "\n",
       "    .dataframe tbody tr th {\n",
       "        vertical-align: top;\n",
       "    }\n",
       "\n",
       "    .dataframe thead th {\n",
       "        text-align: right;\n",
       "    }\n",
       "</style>\n",
       "<table border=\"1\" class=\"dataframe\">\n",
       "  <thead>\n",
       "    <tr style=\"text-align: right;\">\n",
       "      <th></th>\n",
       "      <th>sentiment</th>\n",
       "      <th>filtered_text</th>\n",
       "      <th>sentence_embedding</th>\n",
       "      <th>SBERT</th>\n",
       "    </tr>\n",
       "  </thead>\n",
       "  <tbody>\n",
       "    <tr>\n",
       "      <th>0</th>\n",
       "      <td>neg</td>\n",
       "      <td>die continue nightmare s find touch cool prese...</td>\n",
       "      <td>[-0.1114065, -0.18956636, -0.013039182, -0.095...</td>\n",
       "      <td>[0.021407606, -0.084070146, 0.060046904, 0.001...</td>\n",
       "    </tr>\n",
       "    <tr>\n",
       "      <th>1</th>\n",
       "      <td>neg</td>\n",
       "      <td>happy quick get start tugboat come deserted ru...</td>\n",
       "      <td>[-0.11111246, -0.20685868, -0.01965093, -0.094...</td>\n",
       "      <td>[-0.05555948, -0.028392768, 0.05569559, 0.0244...</td>\n",
       "    </tr>\n",
       "    <tr>\n",
       "      <th>2</th>\n",
       "      <td>neg</td>\n",
       "      <td>thankful tell employ undercover wrong steal qu...</td>\n",
       "      <td>[-0.11836663, -0.18973967, -0.0038995314, -0.1...</td>\n",
       "      <td>[-0.0770346, -0.01919024, 0.06839841, -0.02606...</td>\n",
       "    </tr>\n",
       "    <tr>\n",
       "      <th>3</th>\n",
       "      <td>neg</td>\n",
       "      <td>steal recent cast colorful beat come good dead...</td>\n",
       "      <td>[-0.11764066, -0.18240635, -0.0067705964, -0.0...</td>\n",
       "      <td>[-0.06858337, -0.016195001, 0.02190971, -0.050...</td>\n",
       "    </tr>\n",
       "    <tr>\n",
       "      <th>4</th>\n",
       "      <td>neg</td>\n",
       "      <td>unstable undergo fatal attempt gain take kill ...</td>\n",
       "      <td>[-0.11568695, -0.17534785, -0.004221192, -0.09...</td>\n",
       "      <td>[0.055572182, -0.052183226, -0.0023587106, -0....</td>\n",
       "    </tr>\n",
       "  </tbody>\n",
       "</table>\n",
       "</div>"
      ],
      "text/plain": [
       "  sentiment                                      filtered_text  \\\n",
       "0       neg  die continue nightmare s find touch cool prese...   \n",
       "1       neg  happy quick get start tugboat come deserted ru...   \n",
       "2       neg  thankful tell employ undercover wrong steal qu...   \n",
       "3       neg  steal recent cast colorful beat come good dead...   \n",
       "4       neg  unstable undergo fatal attempt gain take kill ...   \n",
       "\n",
       "                                  sentence_embedding  \\\n",
       "0  [-0.1114065, -0.18956636, -0.013039182, -0.095...   \n",
       "1  [-0.11111246, -0.20685868, -0.01965093, -0.094...   \n",
       "2  [-0.11836663, -0.18973967, -0.0038995314, -0.1...   \n",
       "3  [-0.11764066, -0.18240635, -0.0067705964, -0.0...   \n",
       "4  [-0.11568695, -0.17534785, -0.004221192, -0.09...   \n",
       "\n",
       "                                               SBERT  \n",
       "0  [0.021407606, -0.084070146, 0.060046904, 0.001...  \n",
       "1  [-0.05555948, -0.028392768, 0.05569559, 0.0244...  \n",
       "2  [-0.0770346, -0.01919024, 0.06839841, -0.02606...  \n",
       "3  [-0.06858337, -0.016195001, 0.02190971, -0.050...  \n",
       "4  [0.055572182, -0.052183226, -0.0023587106, -0....  "
      ]
     },
     "execution_count": 115,
     "metadata": {},
     "output_type": "execute_result"
    }
   ],
   "source": [
    "df.head()"
   ]
  },
  {
   "cell_type": "markdown",
   "metadata": {
    "id": "43QTXw8MbkJY"
   },
   "source": [
    "## Modeling"
   ]
  },
  {
   "cell_type": "code",
   "execution_count": 116,
   "metadata": {
    "id": "BgxDJ7LQybhp"
   },
   "outputs": [],
   "source": [
    "from sklearn.preprocessing import LabelEncoder\n",
    "label_encoder = LabelEncoder()\n",
    "\n",
    "# TF-IDF feature matrix\n",
    "X_tfidf = tfidf_matrix\n",
    "X_fasttext = np.array(df['sentence_embedding'].tolist())\n",
    "X_SBERT = np.array(df['SBERT'].tolist())\n",
    "y = label_encoder.fit_transform(df['sentiment'])  # Assuming 'label' contains the sentiment (0 or 1)\n",
    "\n",
    "\n",
    "\n"
   ]
  },
  {
   "cell_type": "markdown",
   "metadata": {},
   "source": [
    "### Logistic Regression"
   ]
  },
  {
   "cell_type": "code",
   "execution_count": null,
   "metadata": {
    "id": "PZ1195pAzkIX"
   },
   "outputs": [],
   "source": [
    "from sklearn.linear_model import LogisticRegression\n",
    "from sklearn.model_selection import train_test_split\n",
    "from sklearn.metrics import accuracy_score, classification_report\n",
    "\n",
    "def train_and_evaluate(X, y):\n",
    "    # Split the dataset\n",
    "    X_train, X_test, y_train, y_test = train_test_split(X, y, test_size=0.2, random_state=42)\n",
    "\n",
    "    # Initialize and train the model\n",
    "    model = LogisticRegression(max_iter=1000)\n",
    "    model.fit(X_train, y_train)\n",
    "\n",
    "    # Make predictions\n",
    "    y_pred = model.predict(X_test)\n",
    "\n",
    "    # Evaluate the model\n",
    "    accuracy = accuracy_score(y_test, y_pred)\n",
    "    report = classification_report(y_test, y_pred)\n",
    "\n",
    "    return accuracy, report\n",
    "\n",
    "# Evaluate each feature extraction method\n",
    "results = {}\n",
    "\n",
    "# TF-IDF\n",
    "results['TF-IDF'] = train_and_evaluate(X_tfidf, y)\n",
    "\n",
    "results['SBERT'] = train_and_evaluate(X_SBERT, y)\n",
    "\n",
    "\n",
    "# FastText\n",
    "results['FastText'] = train_and_evaluate(X_fasttext, y)\n"
   ]
  },
  {
   "cell_type": "code",
   "execution_count": 118,
   "metadata": {
    "colab": {
     "base_uri": "https://localhost:8080/"
    },
    "id": "ozzD6kUszrlQ",
    "outputId": "c8fb6885-a251-4aec-de8b-9fb817d14aee"
   },
   "outputs": [
    {
     "name": "stdout",
     "output_type": "stream",
     "text": [
      "Method: TF-IDF\n",
      "Accuracy: 0.8125\n",
      "Classification Report:\n",
      "              precision    recall  f1-score   support\n",
      "\n",
      "           0       0.82      0.79      0.81       199\n",
      "           1       0.80      0.83      0.82       201\n",
      "\n",
      "    accuracy                           0.81       400\n",
      "   macro avg       0.81      0.81      0.81       400\n",
      "weighted avg       0.81      0.81      0.81       400\n",
      "\n",
      "\n",
      "Method: SBERT\n",
      "Accuracy: 0.7225\n",
      "Classification Report:\n",
      "              precision    recall  f1-score   support\n",
      "\n",
      "           0       0.73      0.69      0.71       199\n",
      "           1       0.71      0.75      0.73       201\n",
      "\n",
      "    accuracy                           0.72       400\n",
      "   macro avg       0.72      0.72      0.72       400\n",
      "weighted avg       0.72      0.72      0.72       400\n",
      "\n",
      "\n",
      "Method: FastText\n",
      "Accuracy: 0.63\n",
      "Classification Report:\n",
      "              precision    recall  f1-score   support\n",
      "\n",
      "           0       0.63      0.63      0.63       199\n",
      "           1       0.63      0.63      0.63       201\n",
      "\n",
      "    accuracy                           0.63       400\n",
      "   macro avg       0.63      0.63      0.63       400\n",
      "weighted avg       0.63      0.63      0.63       400\n",
      "\n",
      "\n"
     ]
    }
   ],
   "source": [
    "for method, (accuracy, report) in results.items():\n",
    "    print(f\"Method: {method}\\nAccuracy: {accuracy}\\nClassification Report:\\n{report}\\n\")\n"
   ]
  },
  {
   "cell_type": "code",
   "execution_count": 119,
   "metadata": {
    "colab": {
     "base_uri": "https://localhost:8080/",
     "height": 564
    },
    "id": "1ya9rW_dzu3o",
    "outputId": "6f126528-7576-4a43-e209-8a7d3b26037c"
   },
   "outputs": [
    {
     "data": {
      "image/png": "[encoded data removed]",
      "text/plain": [
       "<Figure size 1000x600 with 1 Axes>"
      ]
     },
     "metadata": {},
     "output_type": "display_data"
    }
   ],
   "source": [
    "import matplotlib.pyplot as plt\n",
    "\n",
    "# Prepare data for plotting\n",
    "methods = list(results.keys())\n",
    "accuracies = [result[0] for result in results.values()]\n",
    "\n",
    "# Plotting\n",
    "plt.figure(figsize=(10, 6))\n",
    "plt.barh(methods, accuracies, color='skyblue')\n",
    "plt.xlabel('Accuracy')\n",
    "plt.title('Comparison of Word Embedding Techniques')\n",
    "plt.xlim(0, 1)  # Set limits to 0-1 for better visibility\n",
    "plt.grid(axis='x')\n",
    "plt.show()\n"
   ]
  },
  {
   "cell_type": "markdown",
   "metadata": {},
   "source": [
    "### LSTM :"
   ]
  },
  {
   "cell_type": "code",
   "execution_count": 149,
   "metadata": {},
   "outputs": [],
   "source": [
    "from tensorflow.keras.preprocessing.text import Tokenizer\n",
    "from tensorflow.keras.preprocessing.sequence import pad_sequences\n",
    "from sklearn.model_selection import train_test_split\n",
    "import numpy as np\n",
    "\n",
    "\n",
    "# 1. Nettoyage et prétraitement du texte\n",
    "# Tu peux appliquer ici des étapes de nettoyage comme la suppression de la ponctuation, la conversion en minuscules, etc.\n",
    "\n",
    "# 2. Tokenisation\n",
    "texts=list(df['filtered_text'])\n",
    "tokenizer = Tokenizer()\n",
    "tokenizer.fit_on_texts(texts)\n",
    "sequences = tokenizer.texts_to_sequences(texts)\n",
    "labels=label_encoder.fit_transform(df['sentiment'])"
   ]
  },
  {
   "cell_type": "code",
   "execution_count": 150,
   "metadata": {},
   "outputs": [
    {
     "name": "stdout",
     "output_type": "stream",
     "text": [
      "Séquences avec padding :\n",
      "[[   41   238  3403 ...     0     0     0]\n",
      " [ 7746    33   169 ...     0     0     0]\n",
      " [ 3718     7     4 ...     0     0     0]\n",
      " ...\n",
      " [  198   171     3 ...     0     0     0]\n",
      " [11447     8   132 ...     0     0     0]\n",
      " [ 4784     1   589 ...     0     0     0]]\n"
     ]
    }
   ],
   "source": [
    "# 3. Padding\n",
    "# Ajuster la longueur des séquences pour qu'elles soient de la même longueur\n",
    "X = pad_sequences(sequences, padding='post')  # Ajout de zéros à la fin pour compléter les séquences\n",
    "# 4. Diviser les données en entraînement et test\n",
    "X_train, X_test, y_train, y_test = train_test_split(X, labels, test_size=0.2, random_state=42)\n",
    "# Afficher le résultat\n",
    "print(\"Séquences avec padding :\")\n",
    "print(X_train)"
   ]
  },
  {
   "cell_type": "code",
   "execution_count": 152,
   "metadata": {},
   "outputs": [
    {
     "name": "stdout",
     "output_type": "stream",
     "text": [
      "Epoch 1/15\n",
      "\u001b[1m50/50\u001b[0m \u001b[32m━━━━━━━━━━━━━━━━━━━━\u001b[0m\u001b[37m\u001b[0m \u001b[1m7s\u001b[0m 120ms/step - accuracy: 0.4651 - loss: 0.6955 - val_accuracy: 0.5025 - val_loss: 0.6937\n",
      "Epoch 2/15\n",
      "\u001b[1m50/50\u001b[0m \u001b[32m━━━━━━━━━━━━━━━━━━━━\u001b[0m\u001b[37m\u001b[0m \u001b[1m5s\u001b[0m 102ms/step - accuracy: 0.4802 - loss: 0.6950 - val_accuracy: 0.5025 - val_loss: 0.6931\n",
      "Epoch 3/15\n",
      "\u001b[1m50/50\u001b[0m \u001b[32m━━━━━━━━━━━━━━━━━━━━\u001b[0m\u001b[37m\u001b[0m \u001b[1m5s\u001b[0m 100ms/step - accuracy: 0.5153 - loss: 0.6934 - val_accuracy: 0.4975 - val_loss: 0.6936\n",
      "Epoch 4/15\n",
      "\u001b[1m50/50\u001b[0m \u001b[32m━━━━━━━━━━━━━━━━━━━━\u001b[0m\u001b[37m\u001b[0m \u001b[1m5s\u001b[0m 104ms/step - accuracy: 0.4815 - loss: 0.6938 - val_accuracy: 0.4975 - val_loss: 0.6932\n",
      "Epoch 5/15\n",
      "\u001b[1m50/50\u001b[0m \u001b[32m━━━━━━━━━━━━━━━━━━━━\u001b[0m\u001b[37m\u001b[0m \u001b[1m5s\u001b[0m 102ms/step - accuracy: 0.4892 - loss: 0.6942 - val_accuracy: 0.4975 - val_loss: 0.6934\n",
      "Epoch 6/15\n",
      "\u001b[1m50/50\u001b[0m \u001b[32m━━━━━━━━━━━━━━━━━━━━\u001b[0m\u001b[37m\u001b[0m \u001b[1m5s\u001b[0m 103ms/step - accuracy: 0.5100 - loss: 0.6933 - val_accuracy: 0.4975 - val_loss: 0.6934\n",
      "Epoch 7/15\n",
      "\u001b[1m50/50\u001b[0m \u001b[32m━━━━━━━━━━━━━━━━━━━━\u001b[0m\u001b[37m\u001b[0m \u001b[1m5s\u001b[0m 99ms/step - accuracy: 0.4870 - loss: 0.6944 - val_accuracy: 0.5025 - val_loss: 0.6938\n",
      "Epoch 8/15\n",
      "\u001b[1m50/50\u001b[0m \u001b[32m━━━━━━━━━━━━━━━━━━━━\u001b[0m\u001b[37m\u001b[0m \u001b[1m5s\u001b[0m 99ms/step - accuracy: 0.4958 - loss: 0.6939 - val_accuracy: 0.4975 - val_loss: 0.6937\n",
      "Epoch 9/15\n",
      "\u001b[1m50/50\u001b[0m \u001b[32m━━━━━━━━━━━━━━━━━━━━\u001b[0m\u001b[37m\u001b[0m \u001b[1m5s\u001b[0m 99ms/step - accuracy: 0.4979 - loss: 0.6965 - val_accuracy: 0.5025 - val_loss: 0.6932\n",
      "Epoch 10/15\n",
      "\u001b[1m50/50\u001b[0m \u001b[32m━━━━━━━━━━━━━━━━━━━━\u001b[0m\u001b[37m\u001b[0m \u001b[1m5s\u001b[0m 100ms/step - accuracy: 0.4894 - loss: 0.6933 - val_accuracy: 0.5025 - val_loss: 0.6933\n",
      "Epoch 11/15\n",
      "\u001b[1m50/50\u001b[0m \u001b[32m━━━━━━━━━━━━━━━━━━━━\u001b[0m\u001b[37m\u001b[0m \u001b[1m5s\u001b[0m 106ms/step - accuracy: 0.4567 - loss: 0.6956 - val_accuracy: 0.4975 - val_loss: 0.6933\n",
      "Epoch 12/15\n",
      "\u001b[1m50/50\u001b[0m \u001b[32m━━━━━━━━━━━━━━━━━━━━\u001b[0m\u001b[37m\u001b[0m \u001b[1m6s\u001b[0m 124ms/step - accuracy: 0.4939 - loss: 0.6939 - val_accuracy: 0.4975 - val_loss: 0.6933\n",
      "Epoch 13/15\n",
      "\u001b[1m50/50\u001b[0m \u001b[32m━━━━━━━━━━━━━━━━━━━━\u001b[0m\u001b[37m\u001b[0m \u001b[1m6s\u001b[0m 111ms/step - accuracy: 0.4874 - loss: 0.6936 - val_accuracy: 0.5025 - val_loss: 0.6931\n",
      "Epoch 14/15\n",
      "\u001b[1m50/50\u001b[0m \u001b[32m━━━━━━━━━━━━━━━━━━━━\u001b[0m\u001b[37m\u001b[0m \u001b[1m5s\u001b[0m 104ms/step - accuracy: 0.4615 - loss: 0.6942 - val_accuracy: 0.5025 - val_loss: 0.6931\n",
      "Epoch 15/15\n",
      "\u001b[1m50/50\u001b[0m \u001b[32m━━━━━━━━━━━━━━━━━━━━\u001b[0m\u001b[37m\u001b[0m \u001b[1m5s\u001b[0m 105ms/step - accuracy: 0.5117 - loss: 0.6935 - val_accuracy: 0.4975 - val_loss: 0.6938\n"
     ]
    },
    {
     "data": {
      "text/plain": [
       "<keras.src.callbacks.history.History at 0x27c1e7bb910>"
      ]
     },
     "execution_count": 152,
     "metadata": {},
     "output_type": "execute_result"
    }
   ],
   "source": [
    "# Ensuite, tu peux définir ton modèle LSTM comme suit :\n",
    "from tensorflow.keras.models import Sequential\n",
    "from tensorflow.keras.layers import LSTM, Dense, Embedding, Dropout\n",
    "\n",
    "model = Sequential([\n",
    "    Embedding(input_dim=len(tokenizer.word_index) + 1, output_dim=100, input_length=X_train.shape[1]),  # Embedding des mots\n",
    "    LSTM(128, return_sequences=False),  # LSTM\n",
    "    Dropout(0.5),\n",
    "    Dense(64, activation='relu'),\n",
    "    Dense(2, activation='softmax')  # Classification binaire\n",
    "])\n",
    "\n",
    "model.compile(optimizer='adam', loss='sparse_categorical_crossentropy', metrics=['accuracy'])\n",
    "\n",
    "# Entraîner le modèle\n",
    "model.fit(X_train, y_train, epochs=15, batch_size=32, validation_data=(X_test, y_test))"
   ]
  },
  {
   "cell_type": "code",
   "execution_count": null,
   "metadata": {},
   "outputs": [],
   "source": [
    "model = Sequential([\n",
    "    Embedding(input_dim=len(tokenizer.word_index) + 1, output_dim=100, input_length=X_train.shape[1]),  # Embedding des mots\n",
    "    LSTM(128, return_sequences=False),  # LSTM\n",
    "    Dropout(0.5),\n",
    "    Dense(64, activation='relu'),\n",
    "    Dense(2, activation='softmax')  # Classification binaire\n",
    "])\n",
    "\n",
    "model.compile(optimizer='adam', loss='sparse_categorical_crossentropy', metrics=['accuracy'])\n",
    "\n",
    "# Entraîner le modèle\n",
    "model.fit(X_train, y_train, epochs=15, batch_size=32, validation_data=(X_test, y_test))"
   ]
  },
  {
   "cell_type": "code",
   "execution_count": 155,
   "metadata": {},
   "outputs": [
    {
     "data": {
      "text/plain": [
       "356"
      ]
     },
     "execution_count": 155,
     "metadata": {},
     "output_type": "execute_result"
    }
   ],
   "source": [
    "X_train.shape[1]"
   ]
  },
  {
   "cell_type": "code",
   "execution_count": 162,
   "metadata": {},
   "outputs": [
    {
     "data": {
      "text/plain": [
       "5000"
      ]
     },
     "execution_count": 162,
     "metadata": {},
     "output_type": "execute_result"
    }
   ],
   "source": [
    "len(tfidf_vectorizer.vocabulary_)"
   ]
  },
  {
   "cell_type": "code",
   "execution_count": null,
   "metadata": {},
   "outputs": [],
   "source": []
  }
 ],
 "metadata": {
  "colab": {
   "provenance": []
  },
  "kernelspec": {
   "display_name": "venv",
   "language": "python",
   "name": "python3"
  },
  "language_info": {
   "codemirror_mode": {
    "name": "ipython",
    "version": 3
   },
   "file_extension": ".py",
   "mimetype": "text/x-python",
   "name": "python",
   "nbconvert_exporter": "python",
   "pygments_lexer": "ipython3",
   "version": "3.11.5"
  }
 },
 "nbformat": 4,
 "nbformat_minor": 4
}
