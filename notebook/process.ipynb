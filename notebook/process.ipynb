{
 "cells": [
  {
   "cell_type": "code",
   "execution_count": null,
   "metadata": {},
   "outputs": [],
   "source": [
    "import  sys\n",
    "sys.path.append('./pipeline')\n",
    "import pandas as pd\n",
    "from pipeline.Tokens import tokenization\n",
    "from pipeline.cleandata import datacleaning\n",
    "from pipeline.pos_filter import POS_filter\n",
    "from pipeline.stemming  import stemming\n",
    "from pipeline.lemmatization import  lemma\n",
    "from pipeline.tf_idf import tfidf\n",
    "from pipeline.train_save import train_and_save\n",
    "from pipeline.evaluate import evaluate"
   ]
  },
  {
   "cell_type": "code",
   "execution_count": null,
   "metadata": {},
   "outputs": [],
   "source": [
    "data=pd.read_csv('data\\data.csv',index_col=0)\n",
    "data=datacleaning(data)\n",
    "data=tokenization(data)"
   ]
  },
  {
   "cell_type": "code",
   "execution_count": 3,
   "metadata": {},
   "outputs": [
    {
     "data": {
      "text/html": [
       "<div>\n",
       "<style scoped>\n",
       "    .dataframe tbody tr th:only-of-type {\n",
       "        vertical-align: middle;\n",
       "    }\n",
       "\n",
       "    .dataframe tbody tr th {\n",
       "        vertical-align: top;\n",
       "    }\n",
       "\n",
       "    .dataframe thead th {\n",
       "        text-align: right;\n",
       "    }\n",
       "</style>\n",
       "<table border=\"1\" class=\"dataframe\">\n",
       "  <thead>\n",
       "    <tr style=\"text-align: right;\">\n",
       "      <th></th>\n",
       "      <th>review</th>\n",
       "      <th>sentiment</th>\n",
       "      <th>cleaned_review</th>\n",
       "      <th>tokens</th>\n",
       "    </tr>\n",
       "  </thead>\n",
       "  <tbody>\n",
       "    <tr>\n",
       "      <th>0</th>\n",
       "      <td>plot : two teen couples go to a church party ,...</td>\n",
       "      <td>neg</td>\n",
       "      <td>plot teen couples church party drink drive acc...</td>\n",
       "      <td>[plot, teen, couples, church, party, drink, dr...</td>\n",
       "    </tr>\n",
       "    <tr>\n",
       "      <th>1</th>\n",
       "      <td>the happy bastard's quick movie review \\ndamn ...</td>\n",
       "      <td>neg</td>\n",
       "      <td>happy bastards quick movie review damn yk bug ...</td>\n",
       "      <td>[happy, bastards, quick, movie, review, damn, ...</td>\n",
       "    </tr>\n",
       "    <tr>\n",
       "      <th>2</th>\n",
       "      <td>it is movies like these that make a jaded movi...</td>\n",
       "      <td>neg</td>\n",
       "      <td>movies like jaded movie viewer thankful invent...</td>\n",
       "      <td>[movies, like, jaded, movie, viewer, thankful,...</td>\n",
       "    </tr>\n",
       "    <tr>\n",
       "      <th>3</th>\n",
       "      <td>\" quest for camelot \" is warner bros . ' firs...</td>\n",
       "      <td>neg</td>\n",
       "      <td>quest camelot warner bros featurelength fullya...</td>\n",
       "      <td>[quest, camelot, warner, bros, featurelength, ...</td>\n",
       "    </tr>\n",
       "    <tr>\n",
       "      <th>4</th>\n",
       "      <td>synopsis : a mentally unstable man undergoing ...</td>\n",
       "      <td>neg</td>\n",
       "      <td>synopsis mentally unstable man undergoing psyc...</td>\n",
       "      <td>[synopsis, mentally, unstable, man, undergoing...</td>\n",
       "    </tr>\n",
       "  </tbody>\n",
       "</table>\n",
       "</div>"
      ],
      "text/plain": [
       "                                              review sentiment  \\\n",
       "0  plot : two teen couples go to a church party ,...       neg   \n",
       "1  the happy bastard's quick movie review \\ndamn ...       neg   \n",
       "2  it is movies like these that make a jaded movi...       neg   \n",
       "3   \" quest for camelot \" is warner bros . ' firs...       neg   \n",
       "4  synopsis : a mentally unstable man undergoing ...       neg   \n",
       "\n",
       "                                      cleaned_review  \\\n",
       "0  plot teen couples church party drink drive acc...   \n",
       "1  happy bastards quick movie review damn yk bug ...   \n",
       "2  movies like jaded movie viewer thankful invent...   \n",
       "3  quest camelot warner bros featurelength fullya...   \n",
       "4  synopsis mentally unstable man undergoing psyc...   \n",
       "\n",
       "                                              tokens  \n",
       "0  [plot, teen, couples, church, party, drink, dr...  \n",
       "1  [happy, bastards, quick, movie, review, damn, ...  \n",
       "2  [movies, like, jaded, movie, viewer, thankful,...  \n",
       "3  [quest, camelot, warner, bros, featurelength, ...  \n",
       "4  [synopsis, mentally, unstable, man, undergoing...  "
      ]
     },
     "execution_count": 3,
     "metadata": {},
     "output_type": "execute_result"
    }
   ],
   "source": [
    "data.head()"
   ]
  },
  {
   "cell_type": "code",
   "execution_count": 4,
   "metadata": {},
   "outputs": [
    {
     "data": {
      "text/html": [
       "<div>\n",
       "<style scoped>\n",
       "    .dataframe tbody tr th:only-of-type {\n",
       "        vertical-align: middle;\n",
       "    }\n",
       "\n",
       "    .dataframe tbody tr th {\n",
       "        vertical-align: top;\n",
       "    }\n",
       "\n",
       "    .dataframe thead th {\n",
       "        text-align: right;\n",
       "    }\n",
       "</style>\n",
       "<table border=\"1\" class=\"dataframe\">\n",
       "  <thead>\n",
       "    <tr style=\"text-align: right;\">\n",
       "      <th></th>\n",
       "      <th>review</th>\n",
       "      <th>sentiment</th>\n",
       "      <th>cleaned_review</th>\n",
       "      <th>tokens</th>\n",
       "      <th>lemmatized_tokens</th>\n",
       "    </tr>\n",
       "  </thead>\n",
       "  <tbody>\n",
       "    <tr>\n",
       "      <th>0</th>\n",
       "      <td>plot : two teen couples go to a church party ,...</td>\n",
       "      <td>neg</td>\n",
       "      <td>plot teen couples church party drink drive acc...</td>\n",
       "      <td>[plot, teen, couples, church, party, drink, dr...</td>\n",
       "      <td>[plot, teen, couple, church, party, drink, dri...</td>\n",
       "    </tr>\n",
       "    <tr>\n",
       "      <th>1</th>\n",
       "      <td>the happy bastard's quick movie review \\ndamn ...</td>\n",
       "      <td>neg</td>\n",
       "      <td>happy bastards quick movie review damn yk bug ...</td>\n",
       "      <td>[happy, bastards, quick, movie, review, damn, ...</td>\n",
       "      <td>[happy, bastard, quick, movie, review, damn, y...</td>\n",
       "    </tr>\n",
       "    <tr>\n",
       "      <th>2</th>\n",
       "      <td>it is movies like these that make a jaded movi...</td>\n",
       "      <td>neg</td>\n",
       "      <td>movies like jaded movie viewer thankful invent...</td>\n",
       "      <td>[movies, like, jaded, movie, viewer, thankful,...</td>\n",
       "      <td>[movie, like, jade, movie, viewer, thankful, i...</td>\n",
       "    </tr>\n",
       "    <tr>\n",
       "      <th>3</th>\n",
       "      <td>\" quest for camelot \" is warner bros . ' firs...</td>\n",
       "      <td>neg</td>\n",
       "      <td>quest camelot warner bros featurelength fullya...</td>\n",
       "      <td>[quest, camelot, warner, bros, featurelength, ...</td>\n",
       "      <td>[quest, camelot, warner, bros, featurelength, ...</td>\n",
       "    </tr>\n",
       "    <tr>\n",
       "      <th>4</th>\n",
       "      <td>synopsis : a mentally unstable man undergoing ...</td>\n",
       "      <td>neg</td>\n",
       "      <td>synopsis mentally unstable man undergoing psyc...</td>\n",
       "      <td>[synopsis, mentally, unstable, man, undergoing...</td>\n",
       "      <td>[synopsis, mentally, unstable, man, undergo, p...</td>\n",
       "    </tr>\n",
       "  </tbody>\n",
       "</table>\n",
       "</div>"
      ],
      "text/plain": [
       "                                              review sentiment  \\\n",
       "0  plot : two teen couples go to a church party ,...       neg   \n",
       "1  the happy bastard's quick movie review \\ndamn ...       neg   \n",
       "2  it is movies like these that make a jaded movi...       neg   \n",
       "3   \" quest for camelot \" is warner bros . ' firs...       neg   \n",
       "4  synopsis : a mentally unstable man undergoing ...       neg   \n",
       "\n",
       "                                      cleaned_review  \\\n",
       "0  plot teen couples church party drink drive acc...   \n",
       "1  happy bastards quick movie review damn yk bug ...   \n",
       "2  movies like jaded movie viewer thankful invent...   \n",
       "3  quest camelot warner bros featurelength fullya...   \n",
       "4  synopsis mentally unstable man undergoing psyc...   \n",
       "\n",
       "                                              tokens  \\\n",
       "0  [plot, teen, couples, church, party, drink, dr...   \n",
       "1  [happy, bastards, quick, movie, review, damn, ...   \n",
       "2  [movies, like, jaded, movie, viewer, thankful,...   \n",
       "3  [quest, camelot, warner, bros, featurelength, ...   \n",
       "4  [synopsis, mentally, unstable, man, undergoing...   \n",
       "\n",
       "                                   lemmatized_tokens  \n",
       "0  [plot, teen, couple, church, party, drink, dri...  \n",
       "1  [happy, bastard, quick, movie, review, damn, y...  \n",
       "2  [movie, like, jade, movie, viewer, thankful, i...  \n",
       "3  [quest, camelot, warner, bros, featurelength, ...  \n",
       "4  [synopsis, mentally, unstable, man, undergo, p...  "
      ]
     },
     "execution_count": 4,
     "metadata": {},
     "output_type": "execute_result"
    }
   ],
   "source": [
    "data=lemma(data)\n",
    "data.head()"
   ]
  },
  {
   "cell_type": "code",
   "execution_count": 5,
   "metadata": {},
   "outputs": [
    {
     "data": {
      "text/html": [
       "<div>\n",
       "<style scoped>\n",
       "    .dataframe tbody tr th:only-of-type {\n",
       "        vertical-align: middle;\n",
       "    }\n",
       "\n",
       "    .dataframe tbody tr th {\n",
       "        vertical-align: top;\n",
       "    }\n",
       "\n",
       "    .dataframe thead th {\n",
       "        text-align: right;\n",
       "    }\n",
       "</style>\n",
       "<table border=\"1\" class=\"dataframe\">\n",
       "  <thead>\n",
       "    <tr style=\"text-align: right;\">\n",
       "      <th></th>\n",
       "      <th>review</th>\n",
       "      <th>sentiment</th>\n",
       "      <th>cleaned_review</th>\n",
       "      <th>tokens</th>\n",
       "      <th>lemmatized_tokens</th>\n",
       "      <th>filtered_tokens</th>\n",
       "      <th>filtered_text</th>\n",
       "    </tr>\n",
       "  </thead>\n",
       "  <tbody>\n",
       "    <tr>\n",
       "      <th>0</th>\n",
       "      <td>plot : two teen couples go to a church party ,...</td>\n",
       "      <td>neg</td>\n",
       "      <td>plot teen couples church party drink drive acc...</td>\n",
       "      <td>[plot, teen, couples, church, party, drink, dr...</td>\n",
       "      <td>[plot, teen, couple, church, party, drink, dri...</td>\n",
       "      <td>[die, continue, nightmare, s, find, touch, coo...</td>\n",
       "      <td>die continue nightmare s find touch cool prese...</td>\n",
       "    </tr>\n",
       "    <tr>\n",
       "      <th>1</th>\n",
       "      <td>the happy bastard's quick movie review \\ndamn ...</td>\n",
       "      <td>neg</td>\n",
       "      <td>happy bastards quick movie review damn yk bug ...</td>\n",
       "      <td>[happy, bastards, quick, movie, review, damn, ...</td>\n",
       "      <td>[happy, bastard, quick, movie, review, damn, y...</td>\n",
       "      <td>[happy, quick, get, start, tugboat, come, dese...</td>\n",
       "      <td>happy quick get start tugboat come deserted ru...</td>\n",
       "    </tr>\n",
       "    <tr>\n",
       "      <th>2</th>\n",
       "      <td>it is movies like these that make a jaded movi...</td>\n",
       "      <td>neg</td>\n",
       "      <td>movies like jaded movie viewer thankful invent...</td>\n",
       "      <td>[movies, like, jaded, movie, viewer, thankful,...</td>\n",
       "      <td>[movie, like, jade, movie, viewer, thankful, i...</td>\n",
       "      <td>[thankful, tell, employ, undercover, wrong, st...</td>\n",
       "      <td>thankful tell employ undercover wrong steal qu...</td>\n",
       "    </tr>\n",
       "    <tr>\n",
       "      <th>3</th>\n",
       "      <td>\" quest for camelot \" is warner bros . ' firs...</td>\n",
       "      <td>neg</td>\n",
       "      <td>quest camelot warner bros featurelength fullya...</td>\n",
       "      <td>[quest, camelot, warner, bros, featurelength, ...</td>\n",
       "      <td>[quest, camelot, warner, bros, featurelength, ...</td>\n",
       "      <td>[steal, recent, cast, colorful, beat, come, go...</td>\n",
       "      <td>steal recent cast colorful beat come good dead...</td>\n",
       "    </tr>\n",
       "    <tr>\n",
       "      <th>4</th>\n",
       "      <td>synopsis : a mentally unstable man undergoing ...</td>\n",
       "      <td>neg</td>\n",
       "      <td>synopsis mentally unstable man undergoing psyc...</td>\n",
       "      <td>[synopsis, mentally, unstable, man, undergoing...</td>\n",
       "      <td>[synopsis, mentally, unstable, man, undergo, p...</td>\n",
       "      <td>[unstable, undergo, fatal, attempt, gain, take...</td>\n",
       "      <td>unstable undergo fatal attempt gain take kill ...</td>\n",
       "    </tr>\n",
       "  </tbody>\n",
       "</table>\n",
       "</div>"
      ],
      "text/plain": [
       "                                              review sentiment  \\\n",
       "0  plot : two teen couples go to a church party ,...       neg   \n",
       "1  the happy bastard's quick movie review \\ndamn ...       neg   \n",
       "2  it is movies like these that make a jaded movi...       neg   \n",
       "3   \" quest for camelot \" is warner bros . ' firs...       neg   \n",
       "4  synopsis : a mentally unstable man undergoing ...       neg   \n",
       "\n",
       "                                      cleaned_review  \\\n",
       "0  plot teen couples church party drink drive acc...   \n",
       "1  happy bastards quick movie review damn yk bug ...   \n",
       "2  movies like jaded movie viewer thankful invent...   \n",
       "3  quest camelot warner bros featurelength fullya...   \n",
       "4  synopsis mentally unstable man undergoing psyc...   \n",
       "\n",
       "                                              tokens  \\\n",
       "0  [plot, teen, couples, church, party, drink, dr...   \n",
       "1  [happy, bastards, quick, movie, review, damn, ...   \n",
       "2  [movies, like, jaded, movie, viewer, thankful,...   \n",
       "3  [quest, camelot, warner, bros, featurelength, ...   \n",
       "4  [synopsis, mentally, unstable, man, undergoing...   \n",
       "\n",
       "                                   lemmatized_tokens  \\\n",
       "0  [plot, teen, couple, church, party, drink, dri...   \n",
       "1  [happy, bastard, quick, movie, review, damn, y...   \n",
       "2  [movie, like, jade, movie, viewer, thankful, i...   \n",
       "3  [quest, camelot, warner, bros, featurelength, ...   \n",
       "4  [synopsis, mentally, unstable, man, undergo, p...   \n",
       "\n",
       "                                     filtered_tokens  \\\n",
       "0  [die, continue, nightmare, s, find, touch, coo...   \n",
       "1  [happy, quick, get, start, tugboat, come, dese...   \n",
       "2  [thankful, tell, employ, undercover, wrong, st...   \n",
       "3  [steal, recent, cast, colorful, beat, come, go...   \n",
       "4  [unstable, undergo, fatal, attempt, gain, take...   \n",
       "\n",
       "                                       filtered_text  \n",
       "0  die continue nightmare s find touch cool prese...  \n",
       "1  happy quick get start tugboat come deserted ru...  \n",
       "2  thankful tell employ undercover wrong steal qu...  \n",
       "3  steal recent cast colorful beat come good dead...  \n",
       "4  unstable undergo fatal attempt gain take kill ...  "
      ]
     },
     "execution_count": 5,
     "metadata": {},
     "output_type": "execute_result"
    }
   ],
   "source": [
    "data=POS_filter(data)\n",
    "data.head()"
   ]
  },
  {
   "cell_type": "code",
   "execution_count": 13,
   "metadata": {},
   "outputs": [],
   "source": [
    "tfidf_embedding=tfidf(data)\n",
    "tfidf_matrix=tfidf_embedding.transform(data['filtered_text'])"
   ]
  },
  {
   "cell_type": "code",
   "execution_count": 18,
   "metadata": {},
   "outputs": [],
   "source": [
    "from sklearn.model_selection import train_test_split\n",
    "from sklearn.preprocessing import LabelEncoder\n",
    "label_encoder = LabelEncoder()\n",
    "y=label_encoder.fit_transform(data['sentiment'])\n",
    "X=tfidf_matrix\n",
    "X_train, X_test, y_train, y_test = train_test_split(X, y, test_size=0.2, random_state=42)"
   ]
  },
  {
   "cell_type": "code",
   "execution_count": 22,
   "metadata": {},
   "outputs": [],
   "source": [
    "train_and_save(X_train,y_train)"
   ]
  },
  {
   "cell_type": "code",
   "execution_count": 30,
   "metadata": {},
   "outputs": [],
   "source": [
    "import joblib\n",
    "from sklearn.metrics import accuracy_score, classification_report , precision_score, recall_score , f1_score\n",
    "model = joblib.load('models/linear_regression.joblib')\n",
    "y_pred=model.predict(X_test)\n",
    "accuracy = accuracy_score(y_test, y_pred)\n",
    "precision = precision_score(y_test, y_pred)\n",
    "recall =recall_score(y_test, y_pred)\n",
    "F1_score=f1_score(y_test, y_pred)"
   ]
  },
  {
   "cell_type": "code",
   "execution_count": 56,
   "metadata": {},
   "outputs": [],
   "source": [
    "import numpy as np\n",
    "import os\n",
    "folder_path='./data'\n",
    "np.save(os.path.join(folder_path, 'X_test.npy'), X_test)\n",
    "np.save(os.path.join(folder_path, 'y_test.npy'), y_test)"
   ]
  },
  {
   "cell_type": "code",
   "execution_count": 33,
   "metadata": {},
   "outputs": [
    {
     "data": {
      "text/plain": [
       "0.8308457711442786"
      ]
     },
     "execution_count": 33,
     "metadata": {},
     "output_type": "execute_result"
    }
   ],
   "source": [
    "float(recall)"
   ]
  },
  {
   "cell_type": "code",
   "execution_count": 34,
   "metadata": {},
   "outputs": [
    {
     "data": {
      "text/plain": [
       "0.8028846153846154"
      ]
     },
     "execution_count": 34,
     "metadata": {},
     "output_type": "execute_result"
    }
   ],
   "source": [
    "float(precision)"
   ]
  },
  {
   "cell_type": "code",
   "execution_count": 36,
   "metadata": {},
   "outputs": [
    {
     "data": {
      "text/plain": [
       "0.8166259168704156"
      ]
     },
     "execution_count": 36,
     "metadata": {},
     "output_type": "execute_result"
    }
   ],
   "source": [
    "float(F1_score)"
   ]
  },
  {
   "cell_type": "code",
   "execution_count": null,
   "metadata": {},
   "outputs": [],
   "source": []
  }
 ],
 "metadata": {
  "kernelspec": {
   "display_name": "venv",
   "language": "python",
   "name": "python3"
  },
  "language_info": {
   "codemirror_mode": {
    "name": "ipython",
    "version": 3
   },
   "file_extension": ".py",
   "mimetype": "text/x-python",
   "name": "python",
   "nbconvert_exporter": "python",
   "pygments_lexer": "ipython3",
   "version": "3.11.5"
  }
 },
 "nbformat": 4,
 "nbformat_minor": 2
}
